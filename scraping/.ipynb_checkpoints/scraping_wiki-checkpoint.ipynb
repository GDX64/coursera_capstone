{
 "cells": [
  {
   "cell_type": "markdown",
   "metadata": {},
   "source": [
    "# Getting all that we need from the wikipedia table\n",
    "\n",
    "In this notebook, I'm going to extract all the information needed for the capstone project from this wikipedia page: https://en.wikipedia.org/wiki/List_of_postal_codes_of_Canada:_M\n",
    "\n",
    "I'm going to download the page using the requests library and then read the table with pandas read_html  "
   ]
  },
  {
   "cell_type": "code",
   "execution_count": 2,
   "metadata": {},
   "outputs": [],
   "source": [
    "import requests\n",
    "import pandas as pd"
   ]
  },
  {
   "cell_type": "code",
   "execution_count": 3,
   "metadata": {},
   "outputs": [],
   "source": [
    "source=requests.get('https://en.wikipedia.org/wiki/List_of_postal_codes_of_Canada:_M').text"
   ]
  },
  {
   "cell_type": "markdown",
   "metadata": {},
   "source": [
    "<font color=blue> In order to avoid any problems with encoding, let's enconde it with the encode string method, then we going to open a file in binary mode to write it</font>  "
   ]
  },
  {
   "cell_type": "code",
   "execution_count": 10,
   "metadata": {},
   "outputs": [],
   "source": [
    "b_text=source.encode()"
   ]
  },
  {
   "cell_type": "code",
   "execution_count": 12,
   "metadata": {},
   "outputs": [],
   "source": [
    "with open('wiki.html', 'wb') as wiki:\n",
    "    wiki.write(b_text)"
   ]
  },
  {
   "cell_type": "markdown",
   "metadata": {},
   "source": [
    "<font color=blue> Now let's use pandas to read the table from the downlaoded page</font>  "
   ]
  },
  {
   "cell_type": "code",
   "execution_count": 15,
   "metadata": {},
   "outputs": [
    {
     "data": {
      "text/html": [
       "<div>\n",
       "<style scoped>\n",
       "    .dataframe tbody tr th:only-of-type {\n",
       "        vertical-align: middle;\n",
       "    }\n",
       "\n",
       "    .dataframe tbody tr th {\n",
       "        vertical-align: top;\n",
       "    }\n",
       "\n",
       "    .dataframe thead th {\n",
       "        text-align: right;\n",
       "    }\n",
       "</style>\n",
       "<table border=\"1\" class=\"dataframe\">\n",
       "  <thead>\n",
       "    <tr style=\"text-align: right;\">\n",
       "      <th></th>\n",
       "      <th>0</th>\n",
       "      <th>1</th>\n",
       "      <th>2</th>\n",
       "      <th>3</th>\n",
       "      <th>4</th>\n",
       "      <th>5</th>\n",
       "      <th>6</th>\n",
       "      <th>7</th>\n",
       "      <th>8</th>\n",
       "    </tr>\n",
       "  </thead>\n",
       "  <tbody>\n",
       "    <tr>\n",
       "      <td>0</td>\n",
       "      <td>M1ANot assigned</td>\n",
       "      <td>M2ANot assigned</td>\n",
       "      <td>M3ANorth York(Parkwoods)</td>\n",
       "      <td>M4ANorth York(Victoria Village)</td>\n",
       "      <td>M5ADowntown Toronto(Regent Park / Harbourfront)</td>\n",
       "      <td>M6ANorth York(Lawrence Manor / Lawrence Heights)</td>\n",
       "      <td>M7AQueen's Park / Ontario Provincial Government</td>\n",
       "      <td>M8ANot assigned</td>\n",
       "      <td>M9AEtobicoke(Islington Avenue)</td>\n",
       "    </tr>\n",
       "    <tr>\n",
       "      <td>1</td>\n",
       "      <td>M1BScarborough(Malvern / Rouge)</td>\n",
       "      <td>M2BNot assigned</td>\n",
       "      <td>M3BNorth York(Don Mills)North</td>\n",
       "      <td>M4BEast York(Parkview Hill / Woodbine Gardens)</td>\n",
       "      <td>M5BDowntown Toronto(Garden District, Ryerson)</td>\n",
       "      <td>M6BNorth York(Glencairn)</td>\n",
       "      <td>M7BNot assigned</td>\n",
       "      <td>M8BNot assigned</td>\n",
       "      <td>M9BEtobicoke(West Deane Park / Princess Garden...</td>\n",
       "    </tr>\n",
       "    <tr>\n",
       "      <td>2</td>\n",
       "      <td>M1CScarborough(Rouge Hill / Port Union / Highl...</td>\n",
       "      <td>M2CNot assigned</td>\n",
       "      <td>M3CNorth York(Don Mills)South(Flemingdon Park)</td>\n",
       "      <td>M4CEast York(Woodbine Heights)</td>\n",
       "      <td>M5CDowntown Toronto(St. James Town)</td>\n",
       "      <td>M6CYork(Humewood-Cedarvale)</td>\n",
       "      <td>M7CNot assigned</td>\n",
       "      <td>M8CNot assigned</td>\n",
       "      <td>M9CEtobicoke(Eringate / Bloordale Gardens / Ol...</td>\n",
       "    </tr>\n",
       "    <tr>\n",
       "      <td>3</td>\n",
       "      <td>M1EScarborough(Guildwood / Morningside / West ...</td>\n",
       "      <td>M2ENot assigned</td>\n",
       "      <td>M3ENot assigned</td>\n",
       "      <td>M4EEast Toronto(The Beaches)</td>\n",
       "      <td>M5EDowntown Toronto(Berczy Park)</td>\n",
       "      <td>M6EYork(Caledonia-Fairbanks)</td>\n",
       "      <td>M7ENot assigned</td>\n",
       "      <td>M8ENot assigned</td>\n",
       "      <td>M9ENot assigned</td>\n",
       "    </tr>\n",
       "    <tr>\n",
       "      <td>4</td>\n",
       "      <td>M1GScarborough(Woburn)</td>\n",
       "      <td>M2GNot assigned</td>\n",
       "      <td>M3GNot assigned</td>\n",
       "      <td>M4GEast York(Leaside)</td>\n",
       "      <td>M5GDowntown Toronto(Central Bay Street)</td>\n",
       "      <td>M6GDowntown Toronto(Christie)</td>\n",
       "      <td>M7GNot assigned</td>\n",
       "      <td>M8GNot assigned</td>\n",
       "      <td>M9GNot assigned</td>\n",
       "    </tr>\n",
       "  </tbody>\n",
       "</table>\n",
       "</div>"
      ],
      "text/plain": [
       "                                                   0                1  \\\n",
       "0                                    M1ANot assigned  M2ANot assigned   \n",
       "1                    M1BScarborough(Malvern / Rouge)  M2BNot assigned   \n",
       "2  M1CScarborough(Rouge Hill / Port Union / Highl...  M2CNot assigned   \n",
       "3  M1EScarborough(Guildwood / Morningside / West ...  M2ENot assigned   \n",
       "4                             M1GScarborough(Woburn)  M2GNot assigned   \n",
       "\n",
       "                                                2  \\\n",
       "0                        M3ANorth York(Parkwoods)   \n",
       "1                   M3BNorth York(Don Mills)North   \n",
       "2  M3CNorth York(Don Mills)South(Flemingdon Park)   \n",
       "3                                 M3ENot assigned   \n",
       "4                                 M3GNot assigned   \n",
       "\n",
       "                                                3  \\\n",
       "0                 M4ANorth York(Victoria Village)   \n",
       "1  M4BEast York(Parkview Hill / Woodbine Gardens)   \n",
       "2                  M4CEast York(Woodbine Heights)   \n",
       "3                    M4EEast Toronto(The Beaches)   \n",
       "4                           M4GEast York(Leaside)   \n",
       "\n",
       "                                                 4  \\\n",
       "0  M5ADowntown Toronto(Regent Park / Harbourfront)   \n",
       "1    M5BDowntown Toronto(Garden District, Ryerson)   \n",
       "2              M5CDowntown Toronto(St. James Town)   \n",
       "3                 M5EDowntown Toronto(Berczy Park)   \n",
       "4          M5GDowntown Toronto(Central Bay Street)   \n",
       "\n",
       "                                                  5  \\\n",
       "0  M6ANorth York(Lawrence Manor / Lawrence Heights)   \n",
       "1                          M6BNorth York(Glencairn)   \n",
       "2                       M6CYork(Humewood-Cedarvale)   \n",
       "3                      M6EYork(Caledonia-Fairbanks)   \n",
       "4                     M6GDowntown Toronto(Christie)   \n",
       "\n",
       "                                                 6                7  \\\n",
       "0  M7AQueen's Park / Ontario Provincial Government  M8ANot assigned   \n",
       "1                                  M7BNot assigned  M8BNot assigned   \n",
       "2                                  M7CNot assigned  M8CNot assigned   \n",
       "3                                  M7ENot assigned  M8ENot assigned   \n",
       "4                                  M7GNot assigned  M8GNot assigned   \n",
       "\n",
       "                                                   8  \n",
       "0                     M9AEtobicoke(Islington Avenue)  \n",
       "1  M9BEtobicoke(West Deane Park / Princess Garden...  \n",
       "2  M9CEtobicoke(Eringate / Bloordale Gardens / Ol...  \n",
       "3                                    M9ENot assigned  \n",
       "4                                    M9GNot assigned  "
      ]
     },
     "execution_count": 15,
     "metadata": {},
     "output_type": "execute_result"
    }
   ],
   "source": [
    "df=pd.read_html('wiki.html')[0]\n",
    "df.head()"
   ]
  },
  {
   "cell_type": "code",
   "execution_count": 119,
   "metadata": {},
   "outputs": [],
   "source": [
    "new_df=pd.DataFrame(columns=['Postal Code', 'Borough', 'Neighborhood'])"
   ]
  },
  {
   "cell_type": "code",
   "execution_count": 121,
   "metadata": {},
   "outputs": [],
   "source": [
    "def struct_fine(txt, new_df):\n",
    "    try:\n",
    "        txt_list=txt.split('(')\n",
    "        post_code=txt_list[0][0:3]\n",
    "        borough=txt_list[0][3:]\n",
    "        neighs=txt_list[1].split('/')\n",
    "        neighs[-1]=neighs[-1][0:-2]\n",
    "        for neigh in neighs:\n",
    "            row={'Postal Code': post_code, 'Borough': borough, 'Neighborhood': neigh}\n",
    "            new_df=new_df.append(row, ignore_index=True)\n",
    "    except:\n",
    "        pass\n",
    "        \n",
    "    return new_df"
   ]
  },
  {
   "cell_type": "markdown",
   "metadata": {},
   "source": [
    "<font color=blue> Now we will need to split the cells in code post, neyborhood end borough. To acomplish that, I'm going to use regular expressions</font>  "
   ]
  },
  {
   "cell_type": "code",
   "execution_count": 122,
   "metadata": {},
   "outputs": [],
   "source": [
    "for r,c in df.iterrows():\n",
    "    for i, el in c.iteritems():\n",
    "        new_df=struct_fine(el, new_df)"
   ]
  },
  {
   "cell_type": "code",
   "execution_count": 123,
   "metadata": {},
   "outputs": [],
   "source": [
    "new_df['Neighborhood']=new_df['Neighborhood'].str.strip()"
   ]
  },
  {
   "cell_type": "code",
   "execution_count": 124,
   "metadata": {},
   "outputs": [
    {
     "data": {
      "text/html": [
       "<div>\n",
       "<style scoped>\n",
       "    .dataframe tbody tr th:only-of-type {\n",
       "        vertical-align: middle;\n",
       "    }\n",
       "\n",
       "    .dataframe tbody tr th {\n",
       "        vertical-align: top;\n",
       "    }\n",
       "\n",
       "    .dataframe thead th {\n",
       "        text-align: right;\n",
       "    }\n",
       "</style>\n",
       "<table border=\"1\" class=\"dataframe\">\n",
       "  <thead>\n",
       "    <tr style=\"text-align: right;\">\n",
       "      <th></th>\n",
       "      <th>Postal Code</th>\n",
       "      <th>Borough</th>\n",
       "      <th>Neighborhood</th>\n",
       "    </tr>\n",
       "  </thead>\n",
       "  <tbody>\n",
       "    <tr>\n",
       "      <td>0</td>\n",
       "      <td>M3A</td>\n",
       "      <td>North York</td>\n",
       "      <td>Parkwood</td>\n",
       "    </tr>\n",
       "    <tr>\n",
       "      <td>1</td>\n",
       "      <td>M4A</td>\n",
       "      <td>North York</td>\n",
       "      <td>Victoria Villag</td>\n",
       "    </tr>\n",
       "    <tr>\n",
       "      <td>2</td>\n",
       "      <td>M5A</td>\n",
       "      <td>Downtown Toronto</td>\n",
       "      <td>Regent Park</td>\n",
       "    </tr>\n",
       "    <tr>\n",
       "      <td>3</td>\n",
       "      <td>M5A</td>\n",
       "      <td>Downtown Toronto</td>\n",
       "      <td>Harbourfron</td>\n",
       "    </tr>\n",
       "    <tr>\n",
       "      <td>4</td>\n",
       "      <td>M6A</td>\n",
       "      <td>North York</td>\n",
       "      <td>Lawrence Manor</td>\n",
       "    </tr>\n",
       "    <tr>\n",
       "      <td>...</td>\n",
       "      <td>...</td>\n",
       "      <td>...</td>\n",
       "      <td>...</td>\n",
       "    </tr>\n",
       "    <tr>\n",
       "      <td>209</td>\n",
       "      <td>M8Z</td>\n",
       "      <td>Etobicoke</td>\n",
       "      <td>Mimico NW</td>\n",
       "    </tr>\n",
       "    <tr>\n",
       "      <td>210</td>\n",
       "      <td>M8Z</td>\n",
       "      <td>Etobicoke</td>\n",
       "      <td>The Queensway West</td>\n",
       "    </tr>\n",
       "    <tr>\n",
       "      <td>211</td>\n",
       "      <td>M8Z</td>\n",
       "      <td>Etobicoke</td>\n",
       "      <td>South of Bloor</td>\n",
       "    </tr>\n",
       "    <tr>\n",
       "      <td>212</td>\n",
       "      <td>M8Z</td>\n",
       "      <td>Etobicoke</td>\n",
       "      <td>Kingsway Park South West</td>\n",
       "    </tr>\n",
       "    <tr>\n",
       "      <td>213</td>\n",
       "      <td>M8Z</td>\n",
       "      <td>Etobicoke</td>\n",
       "      <td>Royal York South Wes</td>\n",
       "    </tr>\n",
       "  </tbody>\n",
       "</table>\n",
       "<p>214 rows × 3 columns</p>\n",
       "</div>"
      ],
      "text/plain": [
       "    Postal Code           Borough              Neighborhood\n",
       "0           M3A        North York                  Parkwood\n",
       "1           M4A        North York           Victoria Villag\n",
       "2           M5A  Downtown Toronto               Regent Park\n",
       "3           M5A  Downtown Toronto               Harbourfron\n",
       "4           M6A        North York            Lawrence Manor\n",
       "..          ...               ...                       ...\n",
       "209         M8Z         Etobicoke                 Mimico NW\n",
       "210         M8Z         Etobicoke        The Queensway West\n",
       "211         M8Z         Etobicoke            South of Bloor\n",
       "212         M8Z         Etobicoke  Kingsway Park South West\n",
       "213         M8Z         Etobicoke      Royal York South Wes\n",
       "\n",
       "[214 rows x 3 columns]"
      ]
     },
     "execution_count": 124,
     "metadata": {},
     "output_type": "execute_result"
    }
   ],
   "source": [
    "new_df"
   ]
  },
  {
   "cell_type": "markdown",
   "metadata": {},
   "source": [
    "## Getting Latitude and Longitude coordinates for the postal codes\n",
    "\n",
    "I'm going to use the geocoder library and there is a limit in the number of calls I can do with it, so I'll create a dataframe with the postal codes and the correspoding latitude and longitudo, so I can use it and wont run the risk of getting out of calls."
   ]
  },
  {
   "cell_type": "code",
   "execution_count": 108,
   "metadata": {},
   "outputs": [],
   "source": [
    "import geocoder # import geocoder\n",
    "\n",
    "def get_coord(postal_code):\n",
    "    # initialize variable to None\n",
    "    lat_lng_coords = None\n",
    "\n",
    "    # loop until you get the coordinates\n",
    "    while(lat_lng_coords is None):\n",
    "      g = geocoder.google('{}, Toronto, Ontario'.format(postal_code))\n",
    "      lat_lng_coords = g.latlng\n",
    "\n",
    "    latitude = lat_lng_coords[0]\n",
    "    longitude = lat_lng_coords[1]\n",
    "    return latitude, longitude\n"
   ]
  },
  {
   "cell_type": "code",
   "execution_count": 111,
   "metadata": {},
   "outputs": [
    {
     "data": {
      "text/plain": [
       "array(['M3A', 'M4A', 'M5A', 'M6A', 'M9A', 'M1B', 'M3B', 'M4B', 'M5B',\n",
       "       'M6B', 'M9B', 'M1C', 'M3C', 'M4C', 'M5C', 'M6C', 'M9C', 'M1E',\n",
       "       'M4E', 'M5E', 'M6E', 'M1G', 'M4G', 'M5G', 'M6G', 'M1H', 'M2H',\n",
       "       'M3H', 'M4H', 'M5H', 'M6H', 'M1J', 'M2J', 'M3J', 'M4J', 'M5J',\n",
       "       'M6J', 'M1K', 'M2K', 'M3K', 'M4K', 'M5K', 'M6K', 'M1L', 'M2L',\n",
       "       'M3L', 'M4L', 'M5L', 'M6L', 'M9L', 'M1M', 'M2M', 'M3M', 'M4M',\n",
       "       'M5M', 'M6M', 'M9M', 'M1N', 'M2N', 'M3N', 'M4N', 'M5N', 'M6N',\n",
       "       'M9N', 'M1P', 'M2P', 'M4P', 'M5P', 'M6P', 'M9P', 'M1R', 'M2R',\n",
       "       'M4R', 'M5R', 'M6R', 'M7R', 'M9R', 'M1S', 'M4S', 'M5S', 'M6S',\n",
       "       'M1T', 'M4T', 'M5T', 'M1V', 'M4V', 'M5V', 'M8V', 'M9V', 'M1W',\n",
       "       'M4W', 'M5W', 'M8W', 'M9W', 'M1X', 'M4X', 'M5X', 'M8X', 'M4Y',\n",
       "       'M7Y', 'M8Y', 'M8Z'], dtype=object)"
      ]
     },
     "execution_count": 111,
     "metadata": {},
     "output_type": "execute_result"
    }
   ],
   "source": [
    "postal_codes=new_df['Postal Code'].unique()\n",
    "postal_codes"
   ]
  },
  {
   "cell_type": "code",
   "execution_count": 114,
   "metadata": {},
   "outputs": [
    {
     "data": {
      "text/plain": [
       "(102,)"
      ]
     },
     "execution_count": 114,
     "metadata": {},
     "output_type": "execute_result"
    }
   ],
   "source": [
    "postal_codes.shape"
   ]
  },
  {
   "cell_type": "code",
   "execution_count": 113,
   "metadata": {},
   "outputs": [],
   "source": [
    "import time"
   ]
  },
  {
   "cell_type": "code",
   "execution_count": null,
   "metadata": {},
   "outputs": [],
   "source": [
    "lls=[]\n",
    "for postal_code in postal_codes:\n",
    "    time.sleep(0.5)\n",
    "    lls.append(get_coord(postal_code))"
   ]
  },
  {
   "cell_type": "markdown",
   "metadata": {},
   "source": [
    "Well, I tried, but the server is not working, so I'll use the csv"
   ]
  },
  {
   "cell_type": "code",
   "execution_count": 134,
   "metadata": {},
   "outputs": [
    {
     "data": {
      "text/html": [
       "<div>\n",
       "<style scoped>\n",
       "    .dataframe tbody tr th:only-of-type {\n",
       "        vertical-align: middle;\n",
       "    }\n",
       "\n",
       "    .dataframe tbody tr th {\n",
       "        vertical-align: top;\n",
       "    }\n",
       "\n",
       "    .dataframe thead th {\n",
       "        text-align: right;\n",
       "    }\n",
       "</style>\n",
       "<table border=\"1\" class=\"dataframe\">\n",
       "  <thead>\n",
       "    <tr style=\"text-align: right;\">\n",
       "      <th></th>\n",
       "      <th>Postal Code</th>\n",
       "      <th>Latitude</th>\n",
       "      <th>Longitude</th>\n",
       "    </tr>\n",
       "  </thead>\n",
       "  <tbody>\n",
       "    <tr>\n",
       "      <td>0</td>\n",
       "      <td>M1B</td>\n",
       "      <td>43.806686</td>\n",
       "      <td>-79.194353</td>\n",
       "    </tr>\n",
       "    <tr>\n",
       "      <td>1</td>\n",
       "      <td>M1C</td>\n",
       "      <td>43.784535</td>\n",
       "      <td>-79.160497</td>\n",
       "    </tr>\n",
       "    <tr>\n",
       "      <td>2</td>\n",
       "      <td>M1E</td>\n",
       "      <td>43.763573</td>\n",
       "      <td>-79.188711</td>\n",
       "    </tr>\n",
       "    <tr>\n",
       "      <td>3</td>\n",
       "      <td>M1G</td>\n",
       "      <td>43.770992</td>\n",
       "      <td>-79.216917</td>\n",
       "    </tr>\n",
       "    <tr>\n",
       "      <td>4</td>\n",
       "      <td>M1H</td>\n",
       "      <td>43.773136</td>\n",
       "      <td>-79.239476</td>\n",
       "    </tr>\n",
       "  </tbody>\n",
       "</table>\n",
       "</div>"
      ],
      "text/plain": [
       "  Postal Code   Latitude  Longitude\n",
       "0         M1B  43.806686 -79.194353\n",
       "1         M1C  43.784535 -79.160497\n",
       "2         M1E  43.763573 -79.188711\n",
       "3         M1G  43.770992 -79.216917\n",
       "4         M1H  43.773136 -79.239476"
      ]
     },
     "execution_count": 134,
     "metadata": {},
     "output_type": "execute_result"
    }
   ],
   "source": [
    "lls=pd.read_csv('Geospatial_Coordinates.csv')\n",
    "lls.head()"
   ]
  },
  {
   "cell_type": "code",
   "execution_count": 132,
   "metadata": {},
   "outputs": [],
   "source": [
    "new_df['Latitude']=''\n",
    "new_df['Longitude']=''"
   ]
  },
  {
   "cell_type": "code",
   "execution_count": 178,
   "metadata": {},
   "outputs": [
    {
     "data": {
      "text/plain": [
       "43.7709921"
      ]
     },
     "execution_count": 178,
     "metadata": {},
     "output_type": "execute_result"
    }
   ],
   "source": [
    "postal_code=new_df.loc[0,'Postal Code']\n",
    "lls.loc[lls['Postal Code']=='M1G']['Latitude'].values[0]"
   ]
  },
  {
   "cell_type": "code",
   "execution_count": 182,
   "metadata": {},
   "outputs": [],
   "source": [
    "for i, row in new_df.iterrows():\n",
    "    postal_code=new_df.loc[i,'Postal Code']\n",
    "    #print(postal_code)\n",
    "    new_df.loc[i,'Latitude']=lls.loc[lls['Postal Code']==postal_code]['Latitude'].values[0]\n",
    "    new_df.loc[i,'Longitude']=lls.loc[lls['Postal Code']==postal_code]['Longitude'].values[0]"
   ]
  },
  {
   "cell_type": "code",
   "execution_count": 184,
   "metadata": {},
   "outputs": [
    {
     "data": {
      "text/html": [
       "<div>\n",
       "<style scoped>\n",
       "    .dataframe tbody tr th:only-of-type {\n",
       "        vertical-align: middle;\n",
       "    }\n",
       "\n",
       "    .dataframe tbody tr th {\n",
       "        vertical-align: top;\n",
       "    }\n",
       "\n",
       "    .dataframe thead th {\n",
       "        text-align: right;\n",
       "    }\n",
       "</style>\n",
       "<table border=\"1\" class=\"dataframe\">\n",
       "  <thead>\n",
       "    <tr style=\"text-align: right;\">\n",
       "      <th></th>\n",
       "      <th>Postal Code</th>\n",
       "      <th>Borough</th>\n",
       "      <th>Neighborhood</th>\n",
       "      <th>Latitude</th>\n",
       "      <th>Longitude</th>\n",
       "    </tr>\n",
       "  </thead>\n",
       "  <tbody>\n",
       "    <tr>\n",
       "      <td>0</td>\n",
       "      <td>M3A</td>\n",
       "      <td>North York</td>\n",
       "      <td>Parkwood</td>\n",
       "      <td>43.7533</td>\n",
       "      <td>-79.3297</td>\n",
       "    </tr>\n",
       "    <tr>\n",
       "      <td>1</td>\n",
       "      <td>M4A</td>\n",
       "      <td>North York</td>\n",
       "      <td>Victoria Villag</td>\n",
       "      <td>43.7259</td>\n",
       "      <td>-79.3156</td>\n",
       "    </tr>\n",
       "    <tr>\n",
       "      <td>2</td>\n",
       "      <td>M5A</td>\n",
       "      <td>Downtown Toronto</td>\n",
       "      <td>Regent Park</td>\n",
       "      <td>43.6543</td>\n",
       "      <td>-79.3606</td>\n",
       "    </tr>\n",
       "    <tr>\n",
       "      <td>3</td>\n",
       "      <td>M5A</td>\n",
       "      <td>Downtown Toronto</td>\n",
       "      <td>Harbourfron</td>\n",
       "      <td>43.6543</td>\n",
       "      <td>-79.3606</td>\n",
       "    </tr>\n",
       "    <tr>\n",
       "      <td>4</td>\n",
       "      <td>M6A</td>\n",
       "      <td>North York</td>\n",
       "      <td>Lawrence Manor</td>\n",
       "      <td>43.7185</td>\n",
       "      <td>-79.4648</td>\n",
       "    </tr>\n",
       "  </tbody>\n",
       "</table>\n",
       "</div>"
      ],
      "text/plain": [
       "  Postal Code           Borough     Neighborhood Latitude Longitude\n",
       "0         M3A        North York         Parkwood  43.7533  -79.3297\n",
       "1         M4A        North York  Victoria Villag  43.7259  -79.3156\n",
       "2         M5A  Downtown Toronto      Regent Park  43.6543  -79.3606\n",
       "3         M5A  Downtown Toronto      Harbourfron  43.6543  -79.3606\n",
       "4         M6A        North York   Lawrence Manor  43.7185  -79.4648"
      ]
     },
     "execution_count": 184,
     "metadata": {},
     "output_type": "execute_result"
    }
   ],
   "source": [
    "new_df.head()"
   ]
  },
  {
   "cell_type": "code",
   "execution_count": 185,
   "metadata": {},
   "outputs": [],
   "source": [
    "new_df.to_csv('assignment_csv.csv')"
   ]
  }
 ],
 "metadata": {
  "kernelspec": {
   "display_name": "Python 3",
   "language": "python",
   "name": "python3"
  },
  "language_info": {
   "codemirror_mode": {
    "name": "ipython",
    "version": 3
   },
   "file_extension": ".py",
   "mimetype": "text/x-python",
   "name": "python",
   "nbconvert_exporter": "python",
   "pygments_lexer": "ipython3",
   "version": "3.7.4"
  }
 },
 "nbformat": 4,
 "nbformat_minor": 4
}
